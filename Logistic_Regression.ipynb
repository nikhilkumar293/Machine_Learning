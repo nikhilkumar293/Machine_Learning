{
  "nbformat": 4,
  "nbformat_minor": 0,
  "metadata": {
    "colab": {
      "provenance": [],
      "include_colab_link": true
    },
    "kernelspec": {
      "name": "python3",
      "display_name": "Python 3"
    },
    "language_info": {
      "name": "python"
    }
  },
  "cells": [
    {
      "cell_type": "markdown",
      "metadata": {
        "id": "view-in-github",
        "colab_type": "text"
      },
      "source": [
        "<a href=\"https://colab.research.google.com/github/nikhilkumar293/Machine_Learning/blob/main/Logistic_Regression.ipynb\" target=\"_parent\"><img src=\"https://colab.research.google.com/assets/colab-badge.svg\" alt=\"Open In Colab\"/></a>"
      ]
    },
    {
      "cell_type": "markdown",
      "source": [
        "Implement multiclass logistic regression on your own dataset"
      ],
      "metadata": {
        "id": "hWN-aVU9QqwA"
      }
    },
    {
      "cell_type": "code",
      "execution_count": null,
      "metadata": {
        "id": "8-rMWmz3NEBW"
      },
      "outputs": [],
      "source": [
        "import pandas as pd\n",
        "import numpy as np\n",
        "import matplotlib.pyplot as plt\n",
        "from sklearn import datasets\n",
        "from sklearn import model_selection\n",
        "from sklearn import linear_model\n",
        "from sklearn import metrics"
      ]
    },
    {
      "cell_type": "code",
      "source": [
        "digits_df = datasets.load_digits()\n",
        "print('Digits dataset structure= ', dir(digits_df))\n",
        "print('Data shape= ', digits_df.data.shape)\n",
        "print('Data conatins pixel representation of each image, \\n', digits_df.data)"
      ],
      "metadata": {
        "colab": {
          "base_uri": "https://localhost:8080/"
        },
        "id": "p9rSNW5oNGFw",
        "outputId": "b7ae30fb-98ce-4d74-e94a-90b0431ca5c9"
      },
      "execution_count": null,
      "outputs": [
        {
          "output_type": "stream",
          "name": "stdout",
          "text": [
            "Digits dataset structure=  ['DESCR', 'data', 'feature_names', 'frame', 'images', 'target', 'target_names']\n",
            "Data shape=  (1797, 64)\n",
            "Data conatins pixel representation of each image, \n",
            " [[ 0.  0.  5. ...  0.  0.  0.]\n",
            " [ 0.  0.  0. ... 10.  0.  0.]\n",
            " [ 0.  0.  0. ... 16.  9.  0.]\n",
            " ...\n",
            " [ 0.  0.  1. ...  6.  0.  0.]\n",
            " [ 0.  0.  2. ... 12.  0.  0.]\n",
            " [ 0.  0. 10. ... 12.  1.  0.]]\n"
          ]
        }
      ]
    },
    {
      "cell_type": "code",
      "source": [
        "# Using subplot to plot the digits from 0 to 4\n",
        "rows = 1\n",
        "columns = 5\n",
        "fig, ax =  plt.subplots(rows, columns, figsize = (15,6))\n",
        "\n",
        "plt.gray()\n",
        "for i in range(columns):\n",
        "  ax[i].matshow(digits_df.images[i]) \n",
        "  ax[i].set_title('Label: %s\\n' % digits_df.target_names[i])\n",
        "\n",
        "plt.show()"
      ],
      "metadata": {
        "colab": {
          "base_uri": "https://localhost:8080/",
          "height": 217
        },
        "id": "Cti8kMLdNJH1",
        "outputId": "9ce9390b-b93b-4c7c-83a2-368bb56ef524"
      },
      "execution_count": null,
      "outputs": [
        {
          "output_type": "display_data",
          "data": {
            "text/plain": [
              "<Figure size 1080x432 with 5 Axes>"
            ],
            "image/png": "[encoded data removed]"
          },
          "metadata": {
            "needs_background": "light"
          }
        }
      ]
    },
    {
      "cell_type": "code",
      "source": [
        "X = digits_df.data\n",
        "y = digits_df.target"
      ],
      "metadata": {
        "id": "O8SD7ImsNNZ7"
      },
      "execution_count": null,
      "outputs": []
    },
    {
      "cell_type": "code",
      "source": [
        "X_train, X_test, y_train, y_test = model_selection.train_test_split(X, y, test_size= 0.2, random_state = 1)\n",
        "\n",
        "print('X_train dimension= ', X_train.shape)\n",
        "print('X_test dimension= ', X_test.shape)\n",
        "print('y_train dimension= ', y_train.shape)\n",
        "print('y_train dimension= ', y_test.shape)"
      ],
      "metadata": {
        "colab": {
          "base_uri": "https://localhost:8080/"
        },
        "id": "UbGC_mF_NQkf",
        "outputId": "c6a44920-3484-43fe-f787-32ba884a3365"
      },
      "execution_count": null,
      "outputs": [
        {
          "output_type": "stream",
          "name": "stdout",
          "text": [
            "X_train dimension=  (1437, 64)\n",
            "X_test dimension=  (360, 64)\n",
            "y_train dimension=  (1437,)\n",
            "y_train dimension=  (360,)\n"
          ]
        }
      ]
    },
    {
      "cell_type": "code",
      "source": [
        "lm = linear_model.LogisticRegression(multi_class='ovr', solver='liblinear')\n",
        "lm.fit(X_train, y_train)"
      ],
      "metadata": {
        "colab": {
          "base_uri": "https://localhost:8080/"
        },
        "id": "cmnAW19yNTS3",
        "outputId": "79fe93eb-3398-4928-cfb4-25c36b78ecc0"
      },
      "execution_count": null,
      "outputs": [
        {
          "output_type": "execute_result",
          "data": {
            "text/plain": [
              "LogisticRegression(multi_class='ovr', solver='liblinear')"
            ]
          },
          "metadata": {},
          "execution_count": 8
        }
      ]
    },
    {
      "cell_type": "code",
      "source": [
        "print('Predicted value is =', lm.predict([X_test[200]]))\n",
        "\n",
        "print('Actual value from test data is %s and corresponding image is as below' % (y_test[200]) )\n",
        "plt.matshow(digits_df.images[200]) \n",
        "plt.show()"
      ],
      "metadata": {
        "colab": {
          "base_uri": "https://localhost:8080/",
          "height": 311
        },
        "id": "MV8LyOQHNX7k",
        "outputId": "14081c5d-9775-4220-b267-d560199de14c"
      },
      "execution_count": null,
      "outputs": [
        {
          "output_type": "stream",
          "name": "stdout",
          "text": [
            "Predicted value is = [4]\n",
            "Actual value from test data is 4 and corresponding image is as below\n"
          ]
        },
        {
          "output_type": "display_data",
          "data": {
            "text/plain": [
              "<Figure size 288x288 with 1 Axes>"
            ],
            "image/png": "[encoded data removed]"
          },
          "metadata": {
            "needs_background": "light"
          }
        }
      ]
    },
    {
      "cell_type": "code",
      "source": [
        "lm.score(X_test, y_test)"
      ],
      "metadata": {
        "colab": {
          "base_uri": "https://localhost:8080/"
        },
        "id": "5ONU5g2lNfZN",
        "outputId": "0c2b9c48-bc7f-4d75-802c-64061ca541f5"
      },
      "execution_count": null,
      "outputs": [
        {
          "output_type": "execute_result",
          "data": {
            "text/plain": [
              "0.9694444444444444"
            ]
          },
          "metadata": {},
          "execution_count": 10
        }
      ]
    },
    {
      "cell_type": "code",
      "source": [
        "#Creating matplotlib axes object to assign figuresize and figure title\n",
        "fig, ax = plt.subplots(figsize=(10, 6))\n",
        "ax.set_title('Confusion Matrx')\n",
        "\n",
        "disp =metrics.plot_confusion_matrix(lm, X_test, y_test, display_labels= digits_df.target_names, ax = ax)\n",
        "disp.confusion_matrix"
      ],
      "metadata": {
        "colab": {
          "base_uri": "https://localhost:8080/",
          "height": 638
        },
        "id": "AOKnRzY7NmQn",
        "outputId": "1b4f31d3-15eb-447f-babc-8c9d45b09f6a"
      },
      "execution_count": null,
      "outputs": [
        {
          "output_type": "stream",
          "name": "stderr",
          "text": [
            "/usr/local/lib/python3.7/dist-packages/sklearn/utils/deprecation.py:87: FutureWarning: Function plot_confusion_matrix is deprecated; Function `plot_confusion_matrix` is deprecated in 1.0 and will be removed in 1.2. Use one of the class methods: ConfusionMatrixDisplay.from_predictions or ConfusionMatrixDisplay.from_estimator.\n",
            "  warnings.warn(msg, category=FutureWarning)\n"
          ]
        },
        {
          "output_type": "execute_result",
          "data": {
            "text/plain": [
              "array([[42,  0,  0,  0,  1,  0,  0,  0,  0,  0],\n",
              "       [ 0, 34,  0,  0,  0,  0,  0,  0,  1,  0],\n",
              "       [ 0,  0, 35,  1,  0,  0,  0,  0,  0,  0],\n",
              "       [ 0,  0,  0, 39,  0,  0,  0,  0,  1,  1],\n",
              "       [ 0,  0,  0,  0, 38,  0,  0,  0,  0,  0],\n",
              "       [ 0,  0,  0,  1,  0, 29,  0,  0,  0,  0],\n",
              "       [ 0,  0,  0,  0,  0,  0, 37,  0,  0,  0],\n",
              "       [ 0,  0,  0,  0,  0,  0,  0, 36,  0,  1],\n",
              "       [ 0,  0,  0,  0,  0,  1,  0,  0, 27,  1],\n",
              "       [ 0,  0,  0,  0,  0,  1,  0,  0,  1, 32]])"
            ]
          },
          "metadata": {},
          "execution_count": 11
        },
        {
          "output_type": "display_data",
          "data": {
            "text/plain": [
              "<Figure size 720x432 with 2 Axes>"
            ],
            "image/png": "[encoded data removed]"
          },
          "metadata": {
            "needs_background": "light"
          }
        }
      ]
    },
    {
      "cell_type": "code",
      "source": [
        "print(metrics.classification_report(y_test, lm.predict(X_test)))"
      ],
      "metadata": {
        "colab": {
          "base_uri": "https://localhost:8080/"
        },
        "id": "or1omWygNpZ4",
        "outputId": "236e3b48-7207-4b8e-824a-dcfd5652049b"
      },
      "execution_count": null,
      "outputs": [
        {
          "output_type": "stream",
          "name": "stdout",
          "text": [
            "              precision    recall  f1-score   support\n",
            "\n",
            "           0       1.00      0.98      0.99        43\n",
            "           1       1.00      0.97      0.99        35\n",
            "           2       1.00      0.97      0.99        36\n",
            "           3       0.95      0.95      0.95        41\n",
            "           4       0.97      1.00      0.99        38\n",
            "           5       0.94      0.97      0.95        30\n",
            "           6       1.00      1.00      1.00        37\n",
            "           7       1.00      0.97      0.99        37\n",
            "           8       0.90      0.93      0.92        29\n",
            "           9       0.91      0.94      0.93        34\n",
            "\n",
            "    accuracy                           0.97       360\n",
            "   macro avg       0.97      0.97      0.97       360\n",
            "weighted avg       0.97      0.97      0.97       360\n",
            "\n"
          ]
        }
      ]
    },
    {
      "cell_type": "code",
      "source": [],
      "metadata": {
        "id": "zKgKMXJFNsKv"
      },
      "execution_count": null,
      "outputs": []
    }
  ]
}